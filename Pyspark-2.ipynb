{
 "cells": [
  {
   "cell_type": "code",
   "execution_count": 1,
   "id": "ebce2ec4",
   "metadata": {},
   "outputs": [],
   "source": [
    "from pyspark.sql import SparkSession"
   ]
  },
  {
   "cell_type": "code",
   "execution_count": 2,
   "id": "886838f4",
   "metadata": {},
   "outputs": [],
   "source": [
    "spark = SparkSession.builder.appName('Dataframe_Use').getOrCreate()"
   ]
  },
  {
   "cell_type": "code",
   "execution_count": 3,
   "id": "f62ff2bb",
   "metadata": {},
   "outputs": [
    {
     "data": {
      "text/html": [
       "\n",
       "            <div>\n",
       "                <p><b>SparkSession - in-memory</b></p>\n",
       "                \n",
       "        <div>\n",
       "            <p><b>SparkContext</b></p>\n",
       "\n",
       "            <p><a href=\"http://LAPTOP-NAQQF69A:4041\">Spark UI</a></p>\n",
       "\n",
       "            <dl>\n",
       "              <dt>Version</dt>\n",
       "                <dd><code>v3.4.0</code></dd>\n",
       "              <dt>Master</dt>\n",
       "                <dd><code>local[*]</code></dd>\n",
       "              <dt>AppName</dt>\n",
       "                <dd><code>Dataframe_Use</code></dd>\n",
       "            </dl>\n",
       "        </div>\n",
       "        \n",
       "            </div>\n",
       "        "
      ],
      "text/plain": [
       "<pyspark.sql.session.SparkSession at 0x17435b8b790>"
      ]
     },
     "execution_count": 3,
     "metadata": {},
     "output_type": "execute_result"
    }
   ],
   "source": [
    "spark"
   ]
  },
  {
   "cell_type": "code",
   "execution_count": 4,
   "id": "b7e77d01",
   "metadata": {},
   "outputs": [],
   "source": [
    "## Reading the dataset"
   ]
  },
  {
   "cell_type": "code",
   "execution_count": 5,
   "id": "ca63a9b2",
   "metadata": {},
   "outputs": [],
   "source": [
    "path = r\"C:\\Users\\Azam\\Desktop\\Extra Work\\Udemy ML\\UNZIP_FOR_NOTEBOOKS_FINAL\\03-Pandas\\movie_scores.csv\""
   ]
  },
  {
   "cell_type": "code",
   "execution_count": 23,
   "id": "e74f6e81",
   "metadata": {},
   "outputs": [],
   "source": [
    "## read the dataset\n",
    "df_pyspark=spark.read.option('header','true').csv(path,inferSchema=True) # IF inferSchema is not set to true then Pyspark will treat all the columns as string"
   ]
  },
  {
   "cell_type": "code",
   "execution_count": 24,
   "id": "cbf61366",
   "metadata": {},
   "outputs": [
    {
     "name": "stdout",
     "output_type": "stream",
     "text": [
      "+----------+---------+----+----+---------------+----------------+\n",
      "|first_name|last_name| age| sex|pre_movie_score|post_movie_score|\n",
      "+----------+---------+----+----+---------------+----------------+\n",
      "|       Tom|    Hanks|63.0|   m|            8.0|            10.0|\n",
      "|      null|     null|null|null|           null|            null|\n",
      "|      Hugh|  Jackman|51.0|   m|           null|            null|\n",
      "|     Oprah|  Winfrey|66.0|   f|            6.0|             8.0|\n",
      "|      Emma|    Stone|31.0|   f|            7.0|             9.0|\n",
      "+----------+---------+----+----+---------------+----------------+\n",
      "\n"
     ]
    }
   ],
   "source": [
    "df_pyspark.show()"
   ]
  },
  {
   "cell_type": "code",
   "execution_count": 25,
   "id": "e0db1952",
   "metadata": {},
   "outputs": [
    {
     "name": "stdout",
     "output_type": "stream",
     "text": [
      "root\n",
      " |-- first_name: string (nullable = true)\n",
      " |-- last_name: string (nullable = true)\n",
      " |-- age: double (nullable = true)\n",
      " |-- sex: string (nullable = true)\n",
      " |-- pre_movie_score: double (nullable = true)\n",
      " |-- post_movie_score: double (nullable = true)\n",
      "\n"
     ]
    }
   ],
   "source": [
    "df_pyspark.printSchema()"
   ]
  },
  {
   "cell_type": "code",
   "execution_count": 26,
   "id": "48728081",
   "metadata": {},
   "outputs": [
    {
     "name": "stdout",
     "output_type": "stream",
     "text": [
      "+----------+\n",
      "|first_name|\n",
      "+----------+\n",
      "|       Tom|\n",
      "|      null|\n",
      "|      Hugh|\n",
      "|     Oprah|\n",
      "|      Emma|\n",
      "+----------+\n",
      "\n"
     ]
    }
   ],
   "source": [
    "df_pyspark.select('first_name').show() # Select a particular column"
   ]
  },
  {
   "cell_type": "code",
   "execution_count": 27,
   "id": "12c5a3f1",
   "metadata": {},
   "outputs": [
    {
     "data": {
      "text/plain": [
       "pyspark.sql.dataframe.DataFrame"
      ]
     },
     "execution_count": 27,
     "metadata": {},
     "output_type": "execute_result"
    }
   ],
   "source": [
    "type(df_pyspark.select('first_name'))"
   ]
  },
  {
   "cell_type": "code",
   "execution_count": 28,
   "id": "041bae09",
   "metadata": {},
   "outputs": [
    {
     "name": "stdout",
     "output_type": "stream",
     "text": [
      "+----------+---------+\n",
      "|first_name|last_name|\n",
      "+----------+---------+\n",
      "|       Tom|    Hanks|\n",
      "|      null|     null|\n",
      "|      Hugh|  Jackman|\n",
      "|     Oprah|  Winfrey|\n",
      "|      Emma|    Stone|\n",
      "+----------+---------+\n",
      "\n"
     ]
    }
   ],
   "source": [
    "df_pyspark.select(['first_name','last_name']).show()"
   ]
  },
  {
   "cell_type": "code",
   "execution_count": 29,
   "id": "6c2824fd",
   "metadata": {},
   "outputs": [
    {
     "data": {
      "text/plain": [
       "[('first_name', 'string'),\n",
       " ('last_name', 'string'),\n",
       " ('age', 'double'),\n",
       " ('sex', 'string'),\n",
       " ('pre_movie_score', 'double'),\n",
       " ('post_movie_score', 'double')]"
      ]
     },
     "execution_count": 29,
     "metadata": {},
     "output_type": "execute_result"
    }
   ],
   "source": [
    "df_pyspark.dtypes"
   ]
  },
  {
   "cell_type": "code",
   "execution_count": 30,
   "id": "554d6ba7",
   "metadata": {},
   "outputs": [
    {
     "name": "stdout",
     "output_type": "stream",
     "text": [
      "+-------+----------+---------+-----------------+----+---------------+----------------+\n",
      "|summary|first_name|last_name|              age| sex|pre_movie_score|post_movie_score|\n",
      "+-------+----------+---------+-----------------+----+---------------+----------------+\n",
      "|  count|         4|        4|                4|   4|              3|               3|\n",
      "|   mean|      null|     null|            52.75|null|            7.0|             9.0|\n",
      "| stddev|      null|     null|15.88238017426859|null|            1.0|             1.0|\n",
      "|    min|      Emma|    Hanks|             31.0|   f|            6.0|             8.0|\n",
      "|    max|       Tom|  Winfrey|             66.0|   m|            8.0|            10.0|\n",
      "+-------+----------+---------+-----------------+----+---------------+----------------+\n",
      "\n"
     ]
    }
   ],
   "source": [
    "df_pyspark.describe().show()"
   ]
  },
  {
   "cell_type": "code",
   "execution_count": 31,
   "id": "23ce5e54",
   "metadata": {},
   "outputs": [],
   "source": [
    "# Adding columns\n",
    "\n",
    "df_pyspark = df_pyspark.withColumn('Total Score',df_pyspark['pre_movie_score']+df_pyspark['post_movie_score'])"
   ]
  },
  {
   "cell_type": "code",
   "execution_count": 33,
   "id": "63fcc911",
   "metadata": {},
   "outputs": [
    {
     "name": "stdout",
     "output_type": "stream",
     "text": [
      "+----------+---------+----+----+---------------+----------------+-----------+\n",
      "|first_name|last_name| age| sex|pre_movie_score|post_movie_score|Total Score|\n",
      "+----------+---------+----+----+---------------+----------------+-----------+\n",
      "|       Tom|    Hanks|63.0|   m|            8.0|            10.0|       18.0|\n",
      "|      null|     null|null|null|           null|            null|       null|\n",
      "|      Hugh|  Jackman|51.0|   m|           null|            null|       null|\n",
      "|     Oprah|  Winfrey|66.0|   f|            6.0|             8.0|       14.0|\n",
      "|      Emma|    Stone|31.0|   f|            7.0|             9.0|       16.0|\n",
      "+----------+---------+----+----+---------------+----------------+-----------+\n",
      "\n"
     ]
    }
   ],
   "source": [
    "df_pyspark.show()"
   ]
  },
  {
   "cell_type": "code",
   "execution_count": 34,
   "id": "4cb92225",
   "metadata": {},
   "outputs": [
    {
     "name": "stdout",
     "output_type": "stream",
     "text": [
      "+----------+---------+----+----+---------------+----------------+\n",
      "|first_name|last_name| age| sex|pre_movie_score|post_movie_score|\n",
      "+----------+---------+----+----+---------------+----------------+\n",
      "|       Tom|    Hanks|63.0|   m|            8.0|            10.0|\n",
      "|      null|     null|null|null|           null|            null|\n",
      "|      Hugh|  Jackman|51.0|   m|           null|            null|\n",
      "|     Oprah|  Winfrey|66.0|   f|            6.0|             8.0|\n",
      "|      Emma|    Stone|31.0|   f|            7.0|             9.0|\n",
      "+----------+---------+----+----+---------------+----------------+\n",
      "\n"
     ]
    }
   ],
   "source": [
    "# Dropping the columns\n",
    "\n",
    "df_pyspark.drop('Total Score').show() # not an inplace operation"
   ]
  },
  {
   "cell_type": "code",
   "execution_count": 35,
   "id": "2d233012",
   "metadata": {},
   "outputs": [
    {
     "name": "stdout",
     "output_type": "stream",
     "text": [
      "+----------+---------+----+----+---------------+----------------+-----------+\n",
      "|first_name|last_name| age| sex|pre_movie_score|post_movie_score|Total Score|\n",
      "+----------+---------+----+----+---------------+----------------+-----------+\n",
      "|       Tom|    Hanks|63.0|   m|            8.0|            10.0|       18.0|\n",
      "|      null|     null|null|null|           null|            null|       null|\n",
      "|      Hugh|  Jackman|51.0|   m|           null|            null|       null|\n",
      "|     Oprah|  Winfrey|66.0|   f|            6.0|             8.0|       14.0|\n",
      "|      Emma|    Stone|31.0|   f|            7.0|             9.0|       16.0|\n",
      "+----------+---------+----+----+---------------+----------------+-----------+\n",
      "\n"
     ]
    }
   ],
   "source": [
    "df_pyspark.show()"
   ]
  },
  {
   "cell_type": "code",
   "execution_count": 37,
   "id": "b8fad402",
   "metadata": {},
   "outputs": [
    {
     "name": "stdout",
     "output_type": "stream",
     "text": [
      "+----------+---------+----+----+---------------+----------------+------------+\n",
      "|first_name|last_name| age| sex|pre_movie_score|post_movie_score|Summed Score|\n",
      "+----------+---------+----+----+---------------+----------------+------------+\n",
      "|       Tom|    Hanks|63.0|   m|            8.0|            10.0|        18.0|\n",
      "|      null|     null|null|null|           null|            null|        null|\n",
      "|      Hugh|  Jackman|51.0|   m|           null|            null|        null|\n",
      "|     Oprah|  Winfrey|66.0|   f|            6.0|             8.0|        14.0|\n",
      "|      Emma|    Stone|31.0|   f|            7.0|             9.0|        16.0|\n",
      "+----------+---------+----+----+---------------+----------------+------------+\n",
      "\n"
     ]
    }
   ],
   "source": [
    "# Renaming the column\n",
    "\n",
    "df_pyspark.withColumnRenamed('Total Score','Summed Score').show()"
   ]
  },
  {
   "cell_type": "code",
   "execution_count": null,
   "id": "ccabc411",
   "metadata": {},
   "outputs": [],
   "source": []
  }
 ],
 "metadata": {
  "kernelspec": {
   "display_name": "Python 3 (ipykernel)",
   "language": "python",
   "name": "python3"
  },
  "language_info": {
   "codemirror_mode": {
    "name": "ipython",
    "version": 3
   },
   "file_extension": ".py",
   "mimetype": "text/x-python",
   "name": "python",
   "nbconvert_exporter": "python",
   "pygments_lexer": "ipython3",
   "version": "3.9.6"
  }
 },
 "nbformat": 4,
 "nbformat_minor": 5
}
