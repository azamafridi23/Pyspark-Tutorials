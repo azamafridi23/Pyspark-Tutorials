{
 "cells": [
  {
   "cell_type": "code",
   "execution_count": 1,
   "id": "27377ade",
   "metadata": {},
   "outputs": [],
   "source": [
    "from pyspark.sql import SparkSession"
   ]
  },
  {
   "cell_type": "code",
   "execution_count": 2,
   "id": "977f518d",
   "metadata": {},
   "outputs": [],
   "source": [
    "spark = SparkSession.builder.appName('Dataframe_Use').getOrCreate()"
   ]
  },
  {
   "cell_type": "code",
   "execution_count": 3,
   "id": "1fe36585",
   "metadata": {},
   "outputs": [
    {
     "data": {
      "text/html": [
       "\n",
       "            <div>\n",
       "                <p><b>SparkSession - in-memory</b></p>\n",
       "                \n",
       "        <div>\n",
       "            <p><b>SparkContext</b></p>\n",
       "\n",
       "            <p><a href=\"http://LAPTOP-NAQQF69A:4040\">Spark UI</a></p>\n",
       "\n",
       "            <dl>\n",
       "              <dt>Version</dt>\n",
       "                <dd><code>v3.4.0</code></dd>\n",
       "              <dt>Master</dt>\n",
       "                <dd><code>local[*]</code></dd>\n",
       "              <dt>AppName</dt>\n",
       "                <dd><code>Dataframe_Use</code></dd>\n",
       "            </dl>\n",
       "        </div>\n",
       "        \n",
       "            </div>\n",
       "        "
      ],
      "text/plain": [
       "<pyspark.sql.session.SparkSession at 0x1d4ef7a4dc0>"
      ]
     },
     "execution_count": 3,
     "metadata": {},
     "output_type": "execute_result"
    }
   ],
   "source": [
    "spark"
   ]
  },
  {
   "cell_type": "code",
   "execution_count": 4,
   "id": "0ac71554",
   "metadata": {},
   "outputs": [],
   "source": [
    "## Reading the dataset"
   ]
  },
  {
   "cell_type": "code",
   "execution_count": 5,
   "id": "b1a0c990",
   "metadata": {},
   "outputs": [],
   "source": [
    "path = r\"C:\\Users\\Azam\\Desktop\\Extra Work\\Udemy ML\\UNZIP_FOR_NOTEBOOKS_FINAL\\03-Pandas\\movie_scores.csv\""
   ]
  },
  {
   "cell_type": "code",
   "execution_count": 6,
   "id": "11e9e0a4",
   "metadata": {},
   "outputs": [],
   "source": [
    "## read the dataset\n",
    "df_pyspark=spark.read.option('header','true').csv(path,inferSchema=True) # IF inferSchema is not set to true then Pyspark will treat all the columns as string"
   ]
  },
  {
   "cell_type": "code",
   "execution_count": 7,
   "id": "30d7a936",
   "metadata": {},
   "outputs": [
    {
     "name": "stdout",
     "output_type": "stream",
     "text": [
      "+----------+---------+----+----+---------------+----------------+\n",
      "|first_name|last_name| age| sex|pre_movie_score|post_movie_score|\n",
      "+----------+---------+----+----+---------------+----------------+\n",
      "|       Tom|    Hanks|63.0|   m|            8.0|            10.0|\n",
      "|      null|     null|null|null|           null|            null|\n",
      "|      Hugh|  Jackman|51.0|   m|           null|            null|\n",
      "|     Oprah|  Winfrey|66.0|   f|            6.0|             8.0|\n",
      "|      Emma|    Stone|31.0|   f|            7.0|             9.0|\n",
      "+----------+---------+----+----+---------------+----------------+\n",
      "\n"
     ]
    }
   ],
   "source": [
    "df_pyspark.show()"
   ]
  },
  {
   "cell_type": "code",
   "execution_count": 8,
   "id": "5830ff14",
   "metadata": {},
   "outputs": [
    {
     "name": "stdout",
     "output_type": "stream",
     "text": [
      "+----------+----+----+---------------+----------------+\n",
      "|first_name| age| sex|pre_movie_score|post_movie_score|\n",
      "+----------+----+----+---------------+----------------+\n",
      "|       Tom|63.0|   m|            8.0|            10.0|\n",
      "|      null|null|null|           null|            null|\n",
      "|      Hugh|51.0|   m|           null|            null|\n",
      "|     Oprah|66.0|   f|            6.0|             8.0|\n",
      "|      Emma|31.0|   f|            7.0|             9.0|\n",
      "+----------+----+----+---------------+----------------+\n",
      "\n"
     ]
    }
   ],
   "source": [
    "# drop the columns\n",
    "\n",
    "df_pyspark.drop('last_name').show()"
   ]
  },
  {
   "cell_type": "code",
   "execution_count": 9,
   "id": "0db70553",
   "metadata": {},
   "outputs": [
    {
     "name": "stdout",
     "output_type": "stream",
     "text": [
      "+----------+---------+----+----+---------------+----------------+\n",
      "|first_name|last_name| age| sex|pre_movie_score|post_movie_score|\n",
      "+----------+---------+----+----+---------------+----------------+\n",
      "|       Tom|    Hanks|63.0|   m|            8.0|            10.0|\n",
      "|      null|     null|null|null|           null|            null|\n",
      "|      Hugh|  Jackman|51.0|   m|           null|            null|\n",
      "|     Oprah|  Winfrey|66.0|   f|            6.0|             8.0|\n",
      "|      Emma|    Stone|31.0|   f|            7.0|             9.0|\n",
      "+----------+---------+----+----+---------------+----------------+\n",
      "\n"
     ]
    }
   ],
   "source": [
    "df_pyspark.show()"
   ]
  },
  {
   "cell_type": "code",
   "execution_count": null,
   "id": "19e546bc",
   "metadata": {},
   "outputs": [],
   "source": [
    "# drop based on null values\n",
    "\n",
    "# wherever there is a null value that rows will be deleated\n",
    "# df_pyspark.na.drop().show() # if how='any' then if any null value is found then simply drop it ; if how='all' then only those rows will be dropped where all the values are null ; threshold is used to tell that atleast how many non null values should be there; subset param is used to tell that drop only according to this columns"
   ]
  },
  {
   "cell_type": "code",
   "execution_count": 11,
   "id": "4f7b1955",
   "metadata": {},
   "outputs": [
    {
     "name": "stdout",
     "output_type": "stream",
     "text": [
      "+--------------+--------------+----+--------------+---------------+----------------+\n",
      "|    first_name|     last_name| age|           sex|pre_movie_score|post_movie_score|\n",
      "+--------------+--------------+----+--------------+---------------+----------------+\n",
      "|           Tom|         Hanks|63.0|             m|            8.0|            10.0|\n",
      "|Missing Values|Missing Values|null|Missing Values|           null|            null|\n",
      "|          Hugh|       Jackman|51.0|             m|           null|            null|\n",
      "|         Oprah|       Winfrey|66.0|             f|            6.0|             8.0|\n",
      "|          Emma|         Stone|31.0|             f|            7.0|             9.0|\n",
      "+--------------+--------------+----+--------------+---------------+----------------+\n",
      "\n"
     ]
    }
   ],
   "source": [
    "# Filling missing values\n",
    "'''\n",
    "The na.fill('Missing values') was not working for the integer columns like Age/Experience/Salary\n",
    "Only if we read the dataset as 'inferSchema=False' and all the columns are taken in string format by default we can fill\n",
    "the missing values with a string like 'Missing Values'......same goes for the string columns if we fill the missing values\n",
    "with a '0'\n",
    "\n",
    "'''\n",
    "df_pyspark.na.fill('Missing Values').show()"
   ]
  },
  {
   "cell_type": "code",
   "execution_count": 12,
   "id": "9ed3de26",
   "metadata": {},
   "outputs": [],
   "source": [
    "# Imputer function in pyspark\n",
    "\n",
    "from pyspark.ml.feature import Imputer\n",
    "\n",
    "imputer = Imputer(\n",
    "    inputCols=['age', 'pre_movie_score', 'post_movie_score'], \n",
    "    outputCols=[\"{}_imputed\".format(c) for c in ['age', 'pre_movie_score', 'post_movie_score']]\n",
    "    ).setStrategy(\"median\")"
   ]
  },
  {
   "cell_type": "code",
   "execution_count": 13,
   "id": "5bbb9156",
   "metadata": {},
   "outputs": [
    {
     "name": "stdout",
     "output_type": "stream",
     "text": [
      "+----------+---------+----+----+---------------+----------------+-----------+-----------------------+------------------------+\n",
      "|first_name|last_name| age| sex|pre_movie_score|post_movie_score|age_imputed|pre_movie_score_imputed|post_movie_score_imputed|\n",
      "+----------+---------+----+----+---------------+----------------+-----------+-----------------------+------------------------+\n",
      "|       Tom|    Hanks|63.0|   m|            8.0|            10.0|       63.0|                    8.0|                    10.0|\n",
      "|      null|     null|null|null|           null|            null|       51.0|                    7.0|                     9.0|\n",
      "|      Hugh|  Jackman|51.0|   m|           null|            null|       51.0|                    7.0|                     9.0|\n",
      "|     Oprah|  Winfrey|66.0|   f|            6.0|             8.0|       66.0|                    6.0|                     8.0|\n",
      "|      Emma|    Stone|31.0|   f|            7.0|             9.0|       31.0|                    7.0|                     9.0|\n",
      "+----------+---------+----+----+---------------+----------------+-----------+-----------------------+------------------------+\n",
      "\n"
     ]
    }
   ],
   "source": [
    "# Add imputation cols to df\n",
    "imputer.fit(df_pyspark).transform(df_pyspark).show()"
   ]
  },
  {
   "cell_type": "code",
   "execution_count": null,
   "id": "47878e6f",
   "metadata": {},
   "outputs": [],
   "source": []
  }
 ],
 "metadata": {
  "kernelspec": {
   "display_name": "Python 3 (ipykernel)",
   "language": "python",
   "name": "python3"
  },
  "language_info": {
   "codemirror_mode": {
    "name": "ipython",
    "version": 3
   },
   "file_extension": ".py",
   "mimetype": "text/x-python",
   "name": "python",
   "nbconvert_exporter": "python",
   "pygments_lexer": "ipython3",
   "version": "3.9.6"
  }
 },
 "nbformat": 4,
 "nbformat_minor": 5
}
