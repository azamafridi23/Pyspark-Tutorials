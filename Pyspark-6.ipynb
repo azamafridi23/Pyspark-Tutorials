{
 "cells": [
  {
   "cell_type": "markdown",
   "id": "078af05a",
   "metadata": {},
   "source": [
    "## Pyspark MLIB:\n",
    "PySpark MLlib is the machine learning library provided by Apache Spark for scalable and distributed machine learning tasks. It is built on top of Spark's core functionalities and enables users to leverage distributed computing to train and deploy machine learning models.\n",
    "\n",
    "PySpark MLlib provides a wide range of algorithms and utilities for various machine learning tasks, including classification, regression, clustering, collaborative filtering, dimensionality reduction, and more. It also offers tools for feature extraction, transformation, and selection to prepare data for machine learning tasks."
   ]
  },
  {
   "cell_type": "code",
   "execution_count": 1,
   "id": "27377ade",
   "metadata": {},
   "outputs": [],
   "source": [
    "from pyspark.sql import SparkSession"
   ]
  },
  {
   "cell_type": "code",
   "execution_count": 2,
   "id": "977f518d",
   "metadata": {},
   "outputs": [],
   "source": [
    "spark = SparkSession.builder.appName('Dataframe_Use').getOrCreate()"
   ]
  },
  {
   "cell_type": "code",
   "execution_count": 3,
   "id": "1fe36585",
   "metadata": {},
   "outputs": [
    {
     "data": {
      "text/html": [
       "\n",
       "            <div>\n",
       "                <p><b>SparkSession - in-memory</b></p>\n",
       "                \n",
       "        <div>\n",
       "            <p><b>SparkContext</b></p>\n",
       "\n",
       "            <p><a href=\"http://LAPTOP-NAQQF69A:4040\">Spark UI</a></p>\n",
       "\n",
       "            <dl>\n",
       "              <dt>Version</dt>\n",
       "                <dd><code>v3.4.0</code></dd>\n",
       "              <dt>Master</dt>\n",
       "                <dd><code>local[*]</code></dd>\n",
       "              <dt>AppName</dt>\n",
       "                <dd><code>Dataframe_Use</code></dd>\n",
       "            </dl>\n",
       "        </div>\n",
       "        \n",
       "            </div>\n",
       "        "
      ],
      "text/plain": [
       "<pyspark.sql.session.SparkSession at 0x243c82e3e80>"
      ]
     },
     "execution_count": 3,
     "metadata": {},
     "output_type": "execute_result"
    }
   ],
   "source": [
    "spark"
   ]
  },
  {
   "cell_type": "code",
   "execution_count": 4,
   "id": "0ac71554",
   "metadata": {},
   "outputs": [],
   "source": [
    "## Reading the dataset"
   ]
  },
  {
   "cell_type": "code",
   "execution_count": 9,
   "id": "b1a0c990",
   "metadata": {},
   "outputs": [],
   "source": [
    "path = r\"C:\\Users\\Azam\\Desktop\\Extra Work\\Udemy ML\\UNZIP_FOR_NOTEBOOKS_FINAL\\08-Linear-Regression-Models\\Advertising.csv\""
   ]
  },
  {
   "cell_type": "code",
   "execution_count": 10,
   "id": "11e9e0a4",
   "metadata": {},
   "outputs": [],
   "source": [
    "## read the dataset\n",
    "df=spark.read.option('header','true').csv(path,inferSchema=True) # IF inferSchema is not set to true then Pyspark will treat all the columns as string"
   ]
  },
  {
   "cell_type": "code",
   "execution_count": 11,
   "id": "0f51e683",
   "metadata": {},
   "outputs": [
    {
     "name": "stdout",
     "output_type": "stream",
     "text": [
      "+-----+-----+---------+-----+\n",
      "|   TV|radio|newspaper|sales|\n",
      "+-----+-----+---------+-----+\n",
      "|230.1| 37.8|     69.2| 22.1|\n",
      "| 44.5| 39.3|     45.1| 10.4|\n",
      "| 17.2| 45.9|     69.3|  9.3|\n",
      "|151.5| 41.3|     58.5| 18.5|\n",
      "|180.8| 10.8|     58.4| 12.9|\n",
      "|  8.7| 48.9|     75.0|  7.2|\n",
      "| 57.5| 32.8|     23.5| 11.8|\n",
      "|120.2| 19.6|     11.6| 13.2|\n",
      "|  8.6|  2.1|      1.0|  4.8|\n",
      "|199.8|  2.6|     21.2| 10.6|\n",
      "| 66.1|  5.8|     24.2|  8.6|\n",
      "|214.7| 24.0|      4.0| 17.4|\n",
      "| 23.8| 35.1|     65.9|  9.2|\n",
      "| 97.5|  7.6|      7.2|  9.7|\n",
      "|204.1| 32.9|     46.0| 19.0|\n",
      "|195.4| 47.7|     52.9| 22.4|\n",
      "| 67.8| 36.6|    114.0| 12.5|\n",
      "|281.4| 39.6|     55.8| 24.4|\n",
      "| 69.2| 20.5|     18.3| 11.3|\n",
      "|147.3| 23.9|     19.1| 14.6|\n",
      "+-----+-----+---------+-----+\n",
      "only showing top 20 rows\n",
      "\n"
     ]
    }
   ],
   "source": [
    "df.show()"
   ]
  },
  {
   "cell_type": "code",
   "execution_count": 14,
   "id": "d92101ae",
   "metadata": {},
   "outputs": [
    {
     "data": {
      "text/plain": [
       "(200, 4)"
      ]
     },
     "execution_count": 14,
     "metadata": {},
     "output_type": "execute_result"
    }
   ],
   "source": [
    "df.count(),len(df.columns)"
   ]
  },
  {
   "cell_type": "code",
   "execution_count": 21,
   "id": "58611bb5",
   "metadata": {},
   "outputs": [],
   "source": [
    "from pyspark.ml.feature import VectorAssembler"
   ]
  },
  {
   "cell_type": "markdown",
   "id": "0ad84529",
   "metadata": {},
   "source": [
    "## What vectorassembler does is  that it creates a vector from the columns that we give to it"
   ]
  },
  {
   "cell_type": "code",
   "execution_count": 17,
   "id": "6b78f477",
   "metadata": {},
   "outputs": [],
   "source": [
    "feature_assembler = VectorAssembler(inputCols=['TV','radio','newspaper'],outputCol='Independent Features') "
   ]
  },
  {
   "cell_type": "code",
   "execution_count": 19,
   "id": "6740142e",
   "metadata": {},
   "outputs": [],
   "source": [
    "output = feature_assembler.transform(df)"
   ]
  },
  {
   "cell_type": "code",
   "execution_count": 20,
   "id": "a493242b",
   "metadata": {},
   "outputs": [
    {
     "name": "stdout",
     "output_type": "stream",
     "text": [
      "+-----+-----+---------+-----+--------------------+\n",
      "|   TV|radio|newspaper|sales|Independent Features|\n",
      "+-----+-----+---------+-----+--------------------+\n",
      "|230.1| 37.8|     69.2| 22.1|   [230.1,37.8,69.2]|\n",
      "| 44.5| 39.3|     45.1| 10.4|    [44.5,39.3,45.1]|\n",
      "| 17.2| 45.9|     69.3|  9.3|    [17.2,45.9,69.3]|\n",
      "|151.5| 41.3|     58.5| 18.5|   [151.5,41.3,58.5]|\n",
      "|180.8| 10.8|     58.4| 12.9|   [180.8,10.8,58.4]|\n",
      "|  8.7| 48.9|     75.0|  7.2|     [8.7,48.9,75.0]|\n",
      "| 57.5| 32.8|     23.5| 11.8|    [57.5,32.8,23.5]|\n",
      "|120.2| 19.6|     11.6| 13.2|   [120.2,19.6,11.6]|\n",
      "|  8.6|  2.1|      1.0|  4.8|       [8.6,2.1,1.0]|\n",
      "|199.8|  2.6|     21.2| 10.6|    [199.8,2.6,21.2]|\n",
      "| 66.1|  5.8|     24.2|  8.6|     [66.1,5.8,24.2]|\n",
      "|214.7| 24.0|      4.0| 17.4|    [214.7,24.0,4.0]|\n",
      "| 23.8| 35.1|     65.9|  9.2|    [23.8,35.1,65.9]|\n",
      "| 97.5|  7.6|      7.2|  9.7|      [97.5,7.6,7.2]|\n",
      "|204.1| 32.9|     46.0| 19.0|   [204.1,32.9,46.0]|\n",
      "|195.4| 47.7|     52.9| 22.4|   [195.4,47.7,52.9]|\n",
      "| 67.8| 36.6|    114.0| 12.5|   [67.8,36.6,114.0]|\n",
      "|281.4| 39.6|     55.8| 24.4|   [281.4,39.6,55.8]|\n",
      "| 69.2| 20.5|     18.3| 11.3|    [69.2,20.5,18.3]|\n",
      "|147.3| 23.9|     19.1| 14.6|   [147.3,23.9,19.1]|\n",
      "+-----+-----+---------+-----+--------------------+\n",
      "only showing top 20 rows\n",
      "\n"
     ]
    }
   ],
   "source": [
    "output.show()"
   ]
  },
  {
   "cell_type": "code",
   "execution_count": 22,
   "id": "9abefb70",
   "metadata": {},
   "outputs": [
    {
     "data": {
      "text/plain": [
       "['TV', 'radio', 'newspaper', 'sales', 'Independent Features']"
      ]
     },
     "execution_count": 22,
     "metadata": {},
     "output_type": "execute_result"
    }
   ],
   "source": [
    "output.columns"
   ]
  },
  {
   "cell_type": "code",
   "execution_count": 23,
   "id": "6714eca6",
   "metadata": {},
   "outputs": [],
   "source": [
    "finalized_data = output.select('Independent Features','sales')"
   ]
  },
  {
   "cell_type": "code",
   "execution_count": 24,
   "id": "23846192",
   "metadata": {},
   "outputs": [
    {
     "name": "stdout",
     "output_type": "stream",
     "text": [
      "+--------------------+-----+\n",
      "|Independent Features|sales|\n",
      "+--------------------+-----+\n",
      "|   [230.1,37.8,69.2]| 22.1|\n",
      "|    [44.5,39.3,45.1]| 10.4|\n",
      "|    [17.2,45.9,69.3]|  9.3|\n",
      "|   [151.5,41.3,58.5]| 18.5|\n",
      "|   [180.8,10.8,58.4]| 12.9|\n",
      "|     [8.7,48.9,75.0]|  7.2|\n",
      "|    [57.5,32.8,23.5]| 11.8|\n",
      "|   [120.2,19.6,11.6]| 13.2|\n",
      "|       [8.6,2.1,1.0]|  4.8|\n",
      "|    [199.8,2.6,21.2]| 10.6|\n",
      "|     [66.1,5.8,24.2]|  8.6|\n",
      "|    [214.7,24.0,4.0]| 17.4|\n",
      "|    [23.8,35.1,65.9]|  9.2|\n",
      "|      [97.5,7.6,7.2]|  9.7|\n",
      "|   [204.1,32.9,46.0]| 19.0|\n",
      "|   [195.4,47.7,52.9]| 22.4|\n",
      "|   [67.8,36.6,114.0]| 12.5|\n",
      "|   [281.4,39.6,55.8]| 24.4|\n",
      "|    [69.2,20.5,18.3]| 11.3|\n",
      "|   [147.3,23.9,19.1]| 14.6|\n",
      "+--------------------+-----+\n",
      "only showing top 20 rows\n",
      "\n"
     ]
    }
   ],
   "source": [
    "finalized_data.show()"
   ]
  },
  {
   "cell_type": "code",
   "execution_count": 25,
   "id": "2a6b2ed3",
   "metadata": {},
   "outputs": [],
   "source": [
    "from pyspark.ml.regression import LinearRegression"
   ]
  },
  {
   "cell_type": "code",
   "execution_count": 26,
   "id": "666baf12",
   "metadata": {},
   "outputs": [],
   "source": [
    "train_data,test_data = finalized_data.randomSplit([0.8,0.2])\n"
   ]
  },
  {
   "cell_type": "code",
   "execution_count": 27,
   "id": "f7242bae",
   "metadata": {},
   "outputs": [],
   "source": [
    "regressor = LinearRegression(featuresCol='Independent Features',labelCol='sales')"
   ]
  },
  {
   "cell_type": "code",
   "execution_count": 28,
   "id": "11b6f731",
   "metadata": {},
   "outputs": [],
   "source": [
    "regressor = regressor.fit(train_data)"
   ]
  },
  {
   "cell_type": "code",
   "execution_count": 29,
   "id": "75b67419",
   "metadata": {},
   "outputs": [
    {
     "data": {
      "text/plain": [
       "DenseVector([0.047, 0.1861, -0.0019])"
      ]
     },
     "execution_count": 29,
     "metadata": {},
     "output_type": "execute_result"
    }
   ],
   "source": [
    "regressor.coefficients"
   ]
  },
  {
   "cell_type": "code",
   "execution_count": 30,
   "id": "778931bb",
   "metadata": {},
   "outputs": [],
   "source": [
    "pred_results = regressor.evaluate(test_data)"
   ]
  },
  {
   "cell_type": "code",
   "execution_count": 32,
   "id": "4bdaddad",
   "metadata": {},
   "outputs": [
    {
     "name": "stdout",
     "output_type": "stream",
     "text": [
      "+--------------------+-----+------------------+\n",
      "|Independent Features|sales|        prediction|\n",
      "+--------------------+-----+------------------+\n",
      "|     [28.6,1.5,33.0]|  7.3| 4.386616805444243|\n",
      "|     [31.5,24.6,2.2]|  9.5| 8.878738267615864|\n",
      "|     [39.5,41.1,5.8]| 10.8|12.318710685222952|\n",
      "|    [43.0,25.9,20.5]|  9.6| 9.627495101561959|\n",
      "|    [44.7,25.8,20.6]| 10.1| 9.688641747429655|\n",
      "|    [68.4,44.5,35.6]| 13.6|14.255146437514735|\n",
      "|    [69.2,20.5,18.3]| 11.3|  9.85872866646402|\n",
      "|     [75.5,10.8,6.0]|  9.9| 8.372732999823885|\n",
      "|    [93.9,43.5,50.5]| 15.3|15.240541991740491|\n",
      "|   [112.9,17.4,38.6]| 11.9|11.299163388249477|\n",
      "|    [116.0,7.7,23.1]| 11.0| 9.668624637802612|\n",
      "|    [117.2,14.7,5.4]| 11.9| 11.06049296244289|\n",
      "|   [120.2,19.6,11.6]| 13.2|12.101900459139385|\n",
      "|   [125.7,36.9,79.2]| 15.9|15.454505127565305|\n",
      "|    [129.4,5.7,31.3]| 11.0| 9.911364968375935|\n",
      "|   [131.1,42.8,28.9]| 18.0|16.899629160029914|\n",
      "|   [137.9,46.4,59.0]| 19.2|  17.8334945228118|\n",
      "|   [142.9,29.3,12.6]| 15.0|14.972547984584825|\n",
      "|    [149.7,35.6,6.0]| 17.3|16.476906048392586|\n",
      "|     [156.6,2.6,8.3]| 10.5|  10.6561958990577|\n",
      "+--------------------+-----+------------------+\n",
      "only showing top 20 rows\n",
      "\n"
     ]
    }
   ],
   "source": [
    "pred_results.predictions.show()"
   ]
  },
  {
   "cell_type": "code",
   "execution_count": 33,
   "id": "28c58b66",
   "metadata": {},
   "outputs": [
    {
     "data": {
      "text/plain": [
       "(0.969684018088048, 1.6290024553048352)"
      ]
     },
     "execution_count": 33,
     "metadata": {},
     "output_type": "execute_result"
    }
   ],
   "source": [
    "pred_results.meanAbsoluteError,pred_results.meanSquaredError"
   ]
  },
  {
   "cell_type": "code",
   "execution_count": null,
   "id": "a9109947",
   "metadata": {},
   "outputs": [],
   "source": []
  }
 ],
 "metadata": {
  "kernelspec": {
   "display_name": "Python 3 (ipykernel)",
   "language": "python",
   "name": "python3"
  },
  "language_info": {
   "codemirror_mode": {
    "name": "ipython",
    "version": 3
   },
   "file_extension": ".py",
   "mimetype": "text/x-python",
   "name": "python",
   "nbconvert_exporter": "python",
   "pygments_lexer": "ipython3",
   "version": "3.9.6"
  }
 },
 "nbformat": 4,
 "nbformat_minor": 5
}
