{
 "cells": [
  {
   "cell_type": "code",
   "execution_count": 1,
   "id": "27377ade",
   "metadata": {},
   "outputs": [],
   "source": [
    "from pyspark.sql import SparkSession"
   ]
  },
  {
   "cell_type": "code",
   "execution_count": 2,
   "id": "977f518d",
   "metadata": {},
   "outputs": [],
   "source": [
    "spark = SparkSession.builder.appName('Dataframe_Use').getOrCreate()"
   ]
  },
  {
   "cell_type": "code",
   "execution_count": 3,
   "id": "1fe36585",
   "metadata": {},
   "outputs": [
    {
     "data": {
      "text/html": [
       "\n",
       "            <div>\n",
       "                <p><b>SparkSession - in-memory</b></p>\n",
       "                \n",
       "        <div>\n",
       "            <p><b>SparkContext</b></p>\n",
       "\n",
       "            <p><a href=\"http://LAPTOP-NAQQF69A:4040\">Spark UI</a></p>\n",
       "\n",
       "            <dl>\n",
       "              <dt>Version</dt>\n",
       "                <dd><code>v3.4.0</code></dd>\n",
       "              <dt>Master</dt>\n",
       "                <dd><code>local[*]</code></dd>\n",
       "              <dt>AppName</dt>\n",
       "                <dd><code>Dataframe_Use</code></dd>\n",
       "            </dl>\n",
       "        </div>\n",
       "        \n",
       "            </div>\n",
       "        "
      ],
      "text/plain": [
       "<pyspark.sql.session.SparkSession at 0x25336772eb0>"
      ]
     },
     "execution_count": 3,
     "metadata": {},
     "output_type": "execute_result"
    }
   ],
   "source": [
    "spark"
   ]
  },
  {
   "cell_type": "code",
   "execution_count": 23,
   "id": "b1a0c990",
   "metadata": {},
   "outputs": [],
   "source": [
    "#path = r\"C:\\Users\\Azam\\Desktop\\Extra Work\\Udemy ML\\UNZIP_FOR_NOTEBOOKS_FINAL\\03-Pandas\\movie_scores.csv\"\n",
    "path = r\"C:\\Users\\Azam\\Desktop\\Extra Work\\Udemy ML\\UNZIP_FOR_NOTEBOOKS_FINAL\\03-Pandas\\Sales_Funnel_CRM.csv\""
   ]
  },
  {
   "cell_type": "code",
   "execution_count": 24,
   "id": "11e9e0a4",
   "metadata": {},
   "outputs": [],
   "source": [
    "## read the dataset\n",
    "df_pyspark=spark.read.option('header','true').option('delimiter', ',').csv(path,inferSchema=True) # IF inferSchema is not set to true then Pyspark will treat all the columns as string"
   ]
  },
  {
   "cell_type": "code",
   "execution_count": 25,
   "id": "2caae6a4",
   "metadata": {},
   "outputs": [
    {
     "name": "stdout",
     "output_type": "stream",
     "text": [
      "+--------------+------------+------------+---------------+---------------+--------+----------+------------+\n",
      "|Account Number|     Company|     Contact|Account Manager|        Product|Licenses|Sale Price|      Status|\n",
      "+--------------+------------+------------+---------------+---------------+--------+----------+------------+\n",
      "|       2123398|      Google| Larry Pager|   Edward Thorp|      Analytics|     150|   2100000|   Presented|\n",
      "|       2123398|      Google| Larry Pager|   Edward Thorp|     Prediction|     150|    700000|   Presented|\n",
      "|       2123398|      Google| Larry Pager|   Edward Thorp|       Tracking|     300|    350000|Under Review|\n",
      "|       2192650|        BOBO| Larry Pager|   Edward Thorp|      Analytics|     150|   2450000|        Lost|\n",
      "|        420496|        IKEA|   Elon Tusk|   Edward Thorp|      Analytics|     300|   4550000|         Won|\n",
      "|        636685|  Tesla Inc.|   Elon Tusk|   Edward Thorp|      Analytics|     300|   2800000|Under Review|\n",
      "|        636685|  Tesla Inc.|   Elon Tusk|   Edward Thorp|     Prediction|     150|    700000|   Presented|\n",
      "|       1216870|   Microsoft| Will Grates|   Edward Thorp|       Tracking|     300|    350000|Under Review|\n",
      "|       2200450|     Walmart| Will Grates|   Edward Thorp|      Analytics|     150|   2450000|        Lost|\n",
      "|        405886|       Apple|Cindy Phoner| Claude Shannon|      Analytics|     300|   4550000|         Won|\n",
      "|        470248|Exxon Mobile|Cindy Phoner| Claude Shannon|      Analytics|     150|   2100000|   Presented|\n",
      "|        698032|         ATT|Cindy Phoner| Claude Shannon|       Tracking|     150|    350000|Under Review|\n",
      "|        698032|         ATT|Cindy Phoner| Claude Shannon|     Prediction|     150|    700000|   Presented|\n",
      "|        902797|  CVS Health|Emma Gordian| Claude Shannon|       Tracking|     450|    490000|         Won|\n",
      "|       2046943|  Salesforce|Emma Gordian| Claude Shannon|      Analytics|     750|   7000000|         Won|\n",
      "|       2169499|       Cisco|Emma Gordian| Claude Shannon|      Analytics|     300|   4550000|        Lost|\n",
      "|       2169499|       Cisco|Emma Gordian| Claude Shannon|GPS Positioning|     300|    350000|   Presented|\n",
      "+--------------+------------+------------+---------------+---------------+--------+----------+------------+\n",
      "\n"
     ]
    }
   ],
   "source": [
    "df_pyspark.show()"
   ]
  },
  {
   "cell_type": "code",
   "execution_count": 34,
   "id": "99cbc959",
   "metadata": {},
   "outputs": [
    {
     "name": "stdout",
     "output_type": "stream",
     "text": [
      "root\n",
      " |-- Account Number: integer (nullable = true)\n",
      " |-- Company: string (nullable = true)\n",
      " |-- Contact: string (nullable = true)\n",
      " |-- Account Manager: string (nullable = true)\n",
      " |-- Product: string (nullable = true)\n",
      " |-- Licenses: integer (nullable = true)\n",
      " |-- Sale Price: integer (nullable = true)\n",
      " |-- Status: string (nullable = true)\n",
      "\n"
     ]
    }
   ],
   "source": [
    "df_pyspark.printSchema()"
   ]
  },
  {
   "cell_type": "code",
   "execution_count": 26,
   "id": "269b4dc8",
   "metadata": {},
   "outputs": [
    {
     "name": "stdout",
     "output_type": "stream",
     "text": [
      "Number of rows: 17\n",
      "Number of columns: 8\n"
     ]
    }
   ],
   "source": [
    "num_rows = df_pyspark.count()  # Get the number of rows\n",
    "num_columns = len(df_pyspark.columns)  # Get the number of columns\n",
    "\n",
    "print(\"Number of rows:\", num_rows)\n",
    "print(\"Number of columns:\", num_columns)"
   ]
  },
  {
   "cell_type": "code",
   "execution_count": 27,
   "id": "fbda3510",
   "metadata": {},
   "outputs": [],
   "source": [
    "## Filter Operations"
   ]
  },
  {
   "cell_type": "markdown",
   "id": "bf5a1a99",
   "metadata": {},
   "source": [
    "## The below cell gives error"
   ]
  },
  {
   "cell_type": "code",
   "execution_count": 36,
   "id": "1a730a6b",
   "metadata": {},
   "outputs": [
    {
     "ename": "ParseException",
     "evalue": "\n[PARSE_SYNTAX_ERROR] Syntax error at or near '>='.(line 1, pos 10)\n\n== SQL ==\nSale Price>=4000000\n----------^^^\n",
     "output_type": "error",
     "traceback": [
      "\u001b[1;31m---------------------------------------------------------------------------\u001b[0m",
      "\u001b[1;31mParseException\u001b[0m                            Traceback (most recent call last)",
      "\u001b[1;32m~\\AppData\\Local\\Temp/ipykernel_5364/1902694850.py\u001b[0m in \u001b[0;36m<module>\u001b[1;34m\u001b[0m\n\u001b[0;32m      1\u001b[0m \u001b[1;31m## Filter those where status = Won\u001b[0m\u001b[1;33m\u001b[0m\u001b[1;33m\u001b[0m\u001b[1;33m\u001b[0m\u001b[0m\n\u001b[1;32m----> 2\u001b[1;33m \u001b[0mdf_pyspark\u001b[0m\u001b[1;33m.\u001b[0m\u001b[0mfilter\u001b[0m\u001b[1;33m(\u001b[0m\u001b[1;34m\"Sale Price>=4000000\"\u001b[0m\u001b[1;33m)\u001b[0m\u001b[1;33m.\u001b[0m\u001b[0mshow\u001b[0m\u001b[1;33m(\u001b[0m\u001b[1;33m)\u001b[0m\u001b[1;33m\u001b[0m\u001b[1;33m\u001b[0m\u001b[0m\n\u001b[0m",
      "\u001b[1;32mc:\\users\\azam\\appdata\\local\\programs\\python\\python39\\lib\\site-packages\\pyspark\\sql\\dataframe.py\u001b[0m in \u001b[0;36mfilter\u001b[1;34m(self, condition)\u001b[0m\n\u001b[0;32m   3134\u001b[0m         \"\"\"\n\u001b[0;32m   3135\u001b[0m         \u001b[1;32mif\u001b[0m \u001b[0misinstance\u001b[0m\u001b[1;33m(\u001b[0m\u001b[0mcondition\u001b[0m\u001b[1;33m,\u001b[0m \u001b[0mstr\u001b[0m\u001b[1;33m)\u001b[0m\u001b[1;33m:\u001b[0m\u001b[1;33m\u001b[0m\u001b[1;33m\u001b[0m\u001b[0m\n\u001b[1;32m-> 3136\u001b[1;33m             \u001b[0mjdf\u001b[0m \u001b[1;33m=\u001b[0m \u001b[0mself\u001b[0m\u001b[1;33m.\u001b[0m\u001b[0m_jdf\u001b[0m\u001b[1;33m.\u001b[0m\u001b[0mfilter\u001b[0m\u001b[1;33m(\u001b[0m\u001b[0mcondition\u001b[0m\u001b[1;33m)\u001b[0m\u001b[1;33m\u001b[0m\u001b[1;33m\u001b[0m\u001b[0m\n\u001b[0m\u001b[0;32m   3137\u001b[0m         \u001b[1;32melif\u001b[0m \u001b[0misinstance\u001b[0m\u001b[1;33m(\u001b[0m\u001b[0mcondition\u001b[0m\u001b[1;33m,\u001b[0m \u001b[0mColumn\u001b[0m\u001b[1;33m)\u001b[0m\u001b[1;33m:\u001b[0m\u001b[1;33m\u001b[0m\u001b[1;33m\u001b[0m\u001b[0m\n\u001b[0;32m   3138\u001b[0m             \u001b[0mjdf\u001b[0m \u001b[1;33m=\u001b[0m \u001b[0mself\u001b[0m\u001b[1;33m.\u001b[0m\u001b[0m_jdf\u001b[0m\u001b[1;33m.\u001b[0m\u001b[0mfilter\u001b[0m\u001b[1;33m(\u001b[0m\u001b[0mcondition\u001b[0m\u001b[1;33m.\u001b[0m\u001b[0m_jc\u001b[0m\u001b[1;33m)\u001b[0m\u001b[1;33m\u001b[0m\u001b[1;33m\u001b[0m\u001b[0m\n",
      "\u001b[1;32mc:\\users\\azam\\appdata\\local\\programs\\python\\python39\\lib\\site-packages\\py4j\\java_gateway.py\u001b[0m in \u001b[0;36m__call__\u001b[1;34m(self, *args)\u001b[0m\n\u001b[0;32m   1320\u001b[0m \u001b[1;33m\u001b[0m\u001b[0m\n\u001b[0;32m   1321\u001b[0m         \u001b[0manswer\u001b[0m \u001b[1;33m=\u001b[0m \u001b[0mself\u001b[0m\u001b[1;33m.\u001b[0m\u001b[0mgateway_client\u001b[0m\u001b[1;33m.\u001b[0m\u001b[0msend_command\u001b[0m\u001b[1;33m(\u001b[0m\u001b[0mcommand\u001b[0m\u001b[1;33m)\u001b[0m\u001b[1;33m\u001b[0m\u001b[1;33m\u001b[0m\u001b[0m\n\u001b[1;32m-> 1322\u001b[1;33m         return_value = get_return_value(\n\u001b[0m\u001b[0;32m   1323\u001b[0m             answer, self.gateway_client, self.target_id, self.name)\n\u001b[0;32m   1324\u001b[0m \u001b[1;33m\u001b[0m\u001b[0m\n",
      "\u001b[1;32mc:\\users\\azam\\appdata\\local\\programs\\python\\python39\\lib\\site-packages\\pyspark\\errors\\exceptions\\captured.py\u001b[0m in \u001b[0;36mdeco\u001b[1;34m(*a, **kw)\u001b[0m\n\u001b[0;32m    173\u001b[0m                 \u001b[1;31m# Hide where the exception came from that shows a non-Pythonic\u001b[0m\u001b[1;33m\u001b[0m\u001b[1;33m\u001b[0m\u001b[1;33m\u001b[0m\u001b[0m\n\u001b[0;32m    174\u001b[0m                 \u001b[1;31m# JVM exception message.\u001b[0m\u001b[1;33m\u001b[0m\u001b[1;33m\u001b[0m\u001b[1;33m\u001b[0m\u001b[0m\n\u001b[1;32m--> 175\u001b[1;33m                 \u001b[1;32mraise\u001b[0m \u001b[0mconverted\u001b[0m \u001b[1;32mfrom\u001b[0m \u001b[1;32mNone\u001b[0m\u001b[1;33m\u001b[0m\u001b[1;33m\u001b[0m\u001b[0m\n\u001b[0m\u001b[0;32m    176\u001b[0m             \u001b[1;32melse\u001b[0m\u001b[1;33m:\u001b[0m\u001b[1;33m\u001b[0m\u001b[1;33m\u001b[0m\u001b[0m\n\u001b[0;32m    177\u001b[0m                 \u001b[1;32mraise\u001b[0m\u001b[1;33m\u001b[0m\u001b[1;33m\u001b[0m\u001b[0m\n",
      "\u001b[1;31mParseException\u001b[0m: \n[PARSE_SYNTAX_ERROR] Syntax error at or near '>='.(line 1, pos 10)\n\n== SQL ==\nSale Price>=4000000\n----------^^^\n"
     ]
    }
   ],
   "source": [
    "## Filter those where Sale Price is greater or equal to 4000000\n",
    "df_pyspark.filter(\"Sale Price>=4000000\").show()"
   ]
  },
  {
   "cell_type": "code",
   "execution_count": 37,
   "id": "7289ea61",
   "metadata": {},
   "outputs": [
    {
     "name": "stdout",
     "output_type": "stream",
     "text": [
      "+--------------+----------+------------+---------------+---------+--------+----------+------+\n",
      "|Account Number|   Company|     Contact|Account Manager|  Product|Licenses|Sale Price|Status|\n",
      "+--------------+----------+------------+---------------+---------+--------+----------+------+\n",
      "|        420496|      IKEA|   Elon Tusk|   Edward Thorp|Analytics|     300|   4550000|   Won|\n",
      "|        405886|     Apple|Cindy Phoner| Claude Shannon|Analytics|     300|   4550000|   Won|\n",
      "|       2046943|Salesforce|Emma Gordian| Claude Shannon|Analytics|     750|   7000000|   Won|\n",
      "|       2169499|     Cisco|Emma Gordian| Claude Shannon|Analytics|     300|   4550000|  Lost|\n",
      "+--------------+----------+------------+---------------+---------+--------+----------+------+\n",
      "\n"
     ]
    }
   ],
   "source": [
    "'''\n",
    "The error you're encountering is due to a syntax issue in your filter expression. When filtering using a condition that\n",
    "involves a column name with spaces or special characters, you need to enclose the column name in backticks (`)\n",
    "'''\n",
    "\n",
    "df_pyspark.filter(\"`Sale Price` >= 4000000\").show()"
   ]
  },
  {
   "cell_type": "code",
   "execution_count": 40,
   "id": "ccb94490",
   "metadata": {},
   "outputs": [
    {
     "name": "stdout",
     "output_type": "stream",
     "text": [
      "+--------------+----------+------------+---------------+---------+--------+----------+------+\n",
      "|Account Number|   Company|     Contact|Account Manager|  Product|Licenses|Sale Price|Status|\n",
      "+--------------+----------+------------+---------------+---------+--------+----------+------+\n",
      "|        420496|      IKEA|   Elon Tusk|   Edward Thorp|Analytics|     300|   4550000|   Won|\n",
      "|        405886|     Apple|Cindy Phoner| Claude Shannon|Analytics|     300|   4550000|   Won|\n",
      "|        902797|CVS Health|Emma Gordian| Claude Shannon| Tracking|     450|    490000|   Won|\n",
      "|       2046943|Salesforce|Emma Gordian| Claude Shannon|Analytics|     750|   7000000|   Won|\n",
      "+--------------+----------+------------+---------------+---------+--------+----------+------+\n",
      "\n"
     ]
    }
   ],
   "source": [
    "df_pyspark.filter(df_pyspark.Status == 'Won').show()"
   ]
  },
  {
   "cell_type": "code",
   "execution_count": 44,
   "id": "45d101e1",
   "metadata": {},
   "outputs": [
    {
     "name": "stdout",
     "output_type": "stream",
     "text": [
      "+--------------+----------+\n",
      "|Account Number|   Company|\n",
      "+--------------+----------+\n",
      "|        420496|      IKEA|\n",
      "|        405886|     Apple|\n",
      "|        902797|CVS Health|\n",
      "|       2046943|Salesforce|\n",
      "+--------------+----------+\n",
      "\n"
     ]
    }
   ],
   "source": [
    "df_pyspark.filter(\"Status == 'Won'\").select(['Account Number','Company']).show()"
   ]
  },
  {
   "cell_type": "code",
   "execution_count": 49,
   "id": "1da19da9",
   "metadata": {},
   "outputs": [
    {
     "name": "stdout",
     "output_type": "stream",
     "text": [
      "+--------------+----------+------------+---------------+---------+--------+----------+------+\n",
      "|Account Number|   Company|     Contact|Account Manager|  Product|Licenses|Sale Price|Status|\n",
      "+--------------+----------+------------+---------------+---------+--------+----------+------+\n",
      "|        420496|      IKEA|   Elon Tusk|   Edward Thorp|Analytics|     300|   4550000|   Won|\n",
      "|        405886|     Apple|Cindy Phoner| Claude Shannon|Analytics|     300|   4550000|   Won|\n",
      "|        902797|CVS Health|Emma Gordian| Claude Shannon| Tracking|     450|    490000|   Won|\n",
      "+--------------+----------+------------+---------------+---------+--------+----------+------+\n",
      "\n"
     ]
    }
   ],
   "source": [
    "## Multi Condition Filtering\n",
    "\n",
    "df_pyspark.filter((df_pyspark['Status']=='Won') &\n",
    "                  (df_pyspark['Sale Price']  < 7000000 )).show()"
   ]
  },
  {
   "cell_type": "markdown",
   "id": "2ba8a5e3",
   "metadata": {},
   "source": [
    "### Not/Inverse operation in filter"
   ]
  },
  {
   "cell_type": "code",
   "execution_count": 50,
   "id": "720f57ac",
   "metadata": {},
   "outputs": [
    {
     "name": "stdout",
     "output_type": "stream",
     "text": [
      "+--------------+------------+------------+---------------+---------------+--------+----------+------------+\n",
      "|Account Number|     Company|     Contact|Account Manager|        Product|Licenses|Sale Price|      Status|\n",
      "+--------------+------------+------------+---------------+---------------+--------+----------+------------+\n",
      "|       2123398|      Google| Larry Pager|   Edward Thorp|      Analytics|     150|   2100000|   Presented|\n",
      "|       2123398|      Google| Larry Pager|   Edward Thorp|     Prediction|     150|    700000|   Presented|\n",
      "|       2123398|      Google| Larry Pager|   Edward Thorp|       Tracking|     300|    350000|Under Review|\n",
      "|       2192650|        BOBO| Larry Pager|   Edward Thorp|      Analytics|     150|   2450000|        Lost|\n",
      "|        636685|  Tesla Inc.|   Elon Tusk|   Edward Thorp|      Analytics|     300|   2800000|Under Review|\n",
      "|        636685|  Tesla Inc.|   Elon Tusk|   Edward Thorp|     Prediction|     150|    700000|   Presented|\n",
      "|       1216870|   Microsoft| Will Grates|   Edward Thorp|       Tracking|     300|    350000|Under Review|\n",
      "|       2200450|     Walmart| Will Grates|   Edward Thorp|      Analytics|     150|   2450000|        Lost|\n",
      "|        470248|Exxon Mobile|Cindy Phoner| Claude Shannon|      Analytics|     150|   2100000|   Presented|\n",
      "|        698032|         ATT|Cindy Phoner| Claude Shannon|       Tracking|     150|    350000|Under Review|\n",
      "|        698032|         ATT|Cindy Phoner| Claude Shannon|     Prediction|     150|    700000|   Presented|\n",
      "|       2169499|       Cisco|Emma Gordian| Claude Shannon|      Analytics|     300|   4550000|        Lost|\n",
      "|       2169499|       Cisco|Emma Gordian| Claude Shannon|GPS Positioning|     300|    350000|   Presented|\n",
      "+--------------+------------+------------+---------------+---------------+--------+----------+------------+\n",
      "\n"
     ]
    }
   ],
   "source": [
    "df_pyspark.filter(~(df_pyspark.Status == 'Won')).show()"
   ]
  },
  {
   "cell_type": "code",
   "execution_count": null,
   "id": "20b4ca56",
   "metadata": {},
   "outputs": [],
   "source": []
  }
 ],
 "metadata": {
  "kernelspec": {
   "display_name": "Python 3 (ipykernel)",
   "language": "python",
   "name": "python3"
  },
  "language_info": {
   "codemirror_mode": {
    "name": "ipython",
    "version": 3
   },
   "file_extension": ".py",
   "mimetype": "text/x-python",
   "name": "python",
   "nbconvert_exporter": "python",
   "pygments_lexer": "ipython3",
   "version": "3.9.6"
  }
 },
 "nbformat": 4,
 "nbformat_minor": 5
}
